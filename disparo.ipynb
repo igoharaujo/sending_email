{
 "cells": [
  {
   "cell_type": "code",
   "execution_count": 12,
   "metadata": {},
   "outputs": [],
   "source": [
    "remetente = \"email\" \n",
    "destinatario = \"email de destino\" \n",
    "senha = \"chave app\""
   ]
  },
  {
   "cell_type": "code",
   "execution_count": 18,
   "metadata": {},
   "outputs": [],
   "source": [
    "import smtplib\n",
    "from email.mime.multipart import MIMEMultipart\n",
    "from email.mime.text import MIMEText\n",
    "from email.mime.base import MIMEBase\n",
    "from email import encoders\n",
    "\n",
    "caminho_anexo = \"teste.xlsx\"\n",
    "corpo_email = '''\n",
    "Prezados,\n",
    "\n",
    "É com grande respeito que compartilho uma reflexão de Albert Einstein:\n",
    "\n",
    "\"A mente que se abre a uma nova ideia jamais voltará ao seu tamanho original.\"\n",
    "\n",
    "\n",
    "Atenciosamente,\n",
    "dev Junio\n",
    "'''\n",
    "\n",
    "mensagem = MIMEMultipart()\n",
    "mensagem[\"From\"] = remetente\n",
    "mensagem[\"To\"] = destinatario\n",
    "mensagem[\"Subject\"] = \"Teste de Anexo CSV\"\n",
    "\n",
    "mensagem.attach(MIMEText(corpo_email))\n",
    "\n",
    "with open(caminho_anexo, \"rb\") as anexo:\n",
    "    parte = MIMEBase(\"application\", \"octet-stream\")\n",
    "    parte.set_payload(anexo.read())\n",
    "    encoders.encode_base64(parte)\n",
    "    parte.add_header(\"Content-Disposition\", f\"attachment; filename={caminho_anexo}\")\n",
    "    mensagem.attach(parte)\n",
    "\n",
    "with smtplib.SMTP(\"smtp.gmail.com\", 587) as servidor:\n",
    "    servidor.starttls()\n",
    "    servidor.login(remetente, senha)\n",
    "    servidor.sendmail(remetente, destinatario, mensagem.as_string())\n"
   ]
  }
 ],
 "metadata": {
  "kernelspec": {
   "display_name": "Python 3",
   "language": "python",
   "name": "python3"
  },
  "language_info": {
   "codemirror_mode": {
    "name": "ipython",
    "version": 3
   },
   "file_extension": ".py",
   "mimetype": "text/x-python",
   "name": "python",
   "nbconvert_exporter": "python",
   "pygments_lexer": "ipython3",
   "version": "3.12.3"
  }
 },
 "nbformat": 4,
 "nbformat_minor": 2
}
